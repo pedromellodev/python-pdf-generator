{
 "cells": [
  {
   "cell_type": "markdown",
   "id": "25539631-db14-4a17-bf7f-478db7970cad",
   "metadata": {},
   "source": [
    "# Semana Python Na Prática"
   ]
  },
  {
   "cell_type": "markdown",
   "id": "c7d4eae1-3f1e-44ad-a996-f2755be67578",
   "metadata": {},
   "source": [
    "## Mostrando informações para o usuário"
   ]
  },
  {
   "cell_type": "code",
   "execution_count": 9,
   "id": "33e115f4-561d-4f44-8ea5-4479afd62793",
   "metadata": {},
   "outputs": [
    {
     "name": "stdout",
     "output_type": "stream",
     "text": [
      "Semana do Python na prática\n",
      "Quero muito aprender a programar em Python!\n",
      "Meu nome é Pedro!\n"
     ]
    }
   ],
   "source": [
    "print(\"Semana do Python na prática\")\n",
    "print(\"Quero muito aprender a programar em Python!\")\n",
    "print(\"Meu nome é Pedro!\")"
   ]
  },
  {
   "cell_type": "markdown",
   "id": "5dba0200-8da5-4771-ab44-78197495112f",
   "metadata": {},
   "source": [
    "## Entrada de dados do usuário"
   ]
  },
  {
   "cell_type": "code",
   "execution_count": 10,
   "id": "e77a3924-2056-4aac-ba2d-9182287de60d",
   "metadata": {},
   "outputs": [
    {
     "data": {
      "text/plain": [
       "'Pedro'"
      ]
     },
     "execution_count": 10,
     "metadata": {},
     "output_type": "execute_result"
    }
   ],
   "source": [
    "input(\"Digite o seu nome: \")"
   ]
  },
  {
   "cell_type": "markdown",
   "id": "b0fe91ec-a8e6-4281-b51c-195dc2f2d5ff",
   "metadata": {},
   "source": [
    "## Armazenando dados em uma váriavel"
   ]
  },
  {
   "cell_type": "code",
   "execution_count": 11,
   "id": "af5cf8d7-a9d1-46f6-916f-a844b7ad8a80",
   "metadata": {},
   "outputs": [
    {
     "name": "stdout",
     "output_type": "stream",
     "text": [
      "Pedro\n"
     ]
    }
   ],
   "source": [
    "nome = \"Pedro\"\n",
    "print(nome)"
   ]
  },
  {
   "cell_type": "code",
   "execution_count": 12,
   "id": "60a160bd-4e3d-4d40-aa5f-269db85aef09",
   "metadata": {},
   "outputs": [],
   "source": [
    "projeto = input(\"Digite a descrição do projeto: \")\n",
    "horas_previstas = input(\"Digite a quantidade de horas previstas: \")\n",
    "valor_hora = input(\"Digite o valor da hora trabalhada: \")\n",
    "prazo = input(\"Digite o prazo do projeto: \")\n",
    "valor_total = int(horas_previstas) * int(valor_hora)"
   ]
  },
  {
   "cell_type": "code",
   "execution_count": 13,
   "id": "e46dbb3c-b481-4f12-841b-35d7b418cf5b",
   "metadata": {},
   "outputs": [
    {
     "name": "stdout",
     "output_type": "stream",
     "text": [
      "200\n"
     ]
    }
   ],
   "source": [
    "print(valor_hora)"
   ]
  },
  {
   "cell_type": "markdown",
   "id": "4d0de3e6-3c3c-4d6e-a22b-2be42008d188",
   "metadata": {},
   "source": [
    "## Realizando cálculos na linguagem Python\n",
    "Valor total do projeto = horas previstas * valor da hora"
   ]
  },
  {
   "cell_type": "markdown",
   "id": "0a22e7f8-40b3-4506-807d-a56d7bc872ab",
   "metadata": {},
   "source": [
    "## Tipos de Dados\n",
    "Textos: str\n",
    "Números: int\n"
   ]
  },
  {
   "cell_type": "code",
   "execution_count": 14,
   "id": "6a411237-6a8b-47aa-951a-dbc806ee983f",
   "metadata": {},
   "outputs": [],
   "source": [
    "n = int(input(\"Digite um número: \"))"
   ]
  },
  {
   "cell_type": "markdown",
   "id": "8b6ebe73-111e-4bfa-8bca-d1811e32f95a",
   "metadata": {},
   "source": [
    "# Gerando PDF do Orçamento"
   ]
  },
  {
   "cell_type": "code",
   "execution_count": 15,
   "id": "64a6254e-3d06-4e04-9da4-2edcbe26bebc",
   "metadata": {},
   "outputs": [
    {
     "name": "stdout",
     "output_type": "stream",
     "text": [
      "Collecting fpdf\n",
      "  Using cached fpdf-1.7.2-py2.py3-none-any.whl\n",
      "Installing collected packages: fpdf\n",
      "Successfully installed fpdf-1.7.2\n"
     ]
    }
   ],
   "source": [
    "!pip install fpdf"
   ]
  },
  {
   "cell_type": "code",
   "execution_count": 16,
   "id": "11348064-3af6-43bc-b4bd-704291a610cd",
   "metadata": {},
   "outputs": [],
   "source": [
    "from fpdf import FPDF"
   ]
  },
  {
   "cell_type": "code",
   "execution_count": 17,
   "id": "9f0e7be0-edce-47af-b39a-f14fdea84629",
   "metadata": {},
   "outputs": [
    {
     "data": {
      "text/plain": [
       "''"
      ]
     },
     "execution_count": 17,
     "metadata": {},
     "output_type": "execute_result"
    }
   ],
   "source": [
    "pdf = FPDF()\n",
    "pdf.add_page()\n",
    "pdf.set_font(\"Arial\")\n",
    "\n",
    "pdf.image(\"template.png\", x=0, y=0)\n",
    "\n",
    "pdf.text(115, 145, projeto)\n",
    "pdf.text(115,160, horas_previstas)\n",
    "pdf.text(115,175, valor_hora)\n",
    "pdf.text(115, 190, prazo)\n",
    "pdf.text(115, 205, str(valor_total))\n",
    "         \n",
    "pdf.output(\"orçamento.pdf\")"
   ]
  },
  {
   "cell_type": "code",
   "execution_count": null,
   "id": "51479cd4-397e-4f44-a703-4a726a867477",
   "metadata": {},
   "outputs": [],
   "source": []
  },
  {
   "cell_type": "code",
   "execution_count": null,
   "id": "432a7261-c306-4b49-8217-f93afbb78dc6",
   "metadata": {},
   "outputs": [],
   "source": []
  }
 ],
 "metadata": {
  "kernelspec": {
   "display_name": "Python 3 (ipykernel)",
   "language": "python",
   "name": "python3"
  },
  "language_info": {
   "codemirror_mode": {
    "name": "ipython",
    "version": 3
   },
   "file_extension": ".py",
   "mimetype": "text/x-python",
   "name": "python",
   "nbconvert_exporter": "python",
   "pygments_lexer": "ipython3",
   "version": "3.11.8"
  }
 },
 "nbformat": 4,
 "nbformat_minor": 5
}
